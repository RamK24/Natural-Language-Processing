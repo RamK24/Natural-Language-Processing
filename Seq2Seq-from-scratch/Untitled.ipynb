{
 "cells": [
  {
   "cell_type": "code",
   "execution_count": 1,
   "id": "6bf54cd8-f842-4a7b-8777-3cf76821e5a8",
   "metadata": {},
   "outputs": [],
   "source": [
    "import torch\n",
    "import torch.nn as nn\n",
    "import torch.optim as optim\n",
    "import json\n",
    "from datasets import load_dataset\n",
    "from collections import OrderedDict\n",
    "import re\n",
    "from torch.utils.data import Dataset, DataLoader\n",
    "from tqdm import tqdm\n",
    "from collections import OrderedDict\n",
    "from tqdm import tqdm\n",
    "from torch.optim.lr_scheduler import ReduceLROnPlateau\n",
    "from datasets import load_dataset, DatasetDict\n",
    "from torchtext.data.utils import get_tokenizer\n",
    "from torchtext.vocab import build_vocab_from_iterator"
   ]
  },
  {
   "cell_type": "code",
   "execution_count": 2,
   "id": "d4099e99-dc41-4508-922a-cc9dcc4ec79f",
   "metadata": {},
   "outputs": [],
   "source": [
    "dataset_path = \"CShorten/CDC-COVID-FAQ\"\n",
    "df = load_dataset(dataset_path)"
   ]
  },
  {
   "cell_type": "code",
   "execution_count": 3,
   "id": "68276763-c143-48ed-8a45-acd70cf0d9fe",
   "metadata": {},
   "outputs": [],
   "source": [
    "tokenizer = get_tokenizer(\"basic_english\")"
   ]
  },
  {
   "cell_type": "code",
   "execution_count": 4,
   "id": "d93919f1-6c66-4083-8c67-e4b06b8731ee",
   "metadata": {},
   "outputs": [],
   "source": [
    "def yield_tokens(text_list):\n",
    "    for sample in text_list:\n",
    "        q = sample['question']\n",
    "        a = sample['answer']\n",
    "        yield tokenizer(q+ ' ' +a)"
   ]
  },
  {
   "cell_type": "code",
   "execution_count": 5,
   "id": "949492c3-768b-46ee-ba51-5c4160fa6eaa",
   "metadata": {},
   "outputs": [
    {
     "name": "stderr",
     "output_type": "stream",
     "text": [
      "61lines [00:00, 10643.67lines/s]\n"
     ]
    }
   ],
   "source": [
    "vocab = build_vocab_from_iterator(yield_tokens(df['train']))"
   ]
  },
  {
   "cell_type": "code",
   "execution_count": 6,
   "id": "ec8d3188-c205-493d-9c1c-375dedc651f6",
   "metadata": {},
   "outputs": [
    {
     "ename": "SyntaxError",
     "evalue": "incomplete input (1576432304.py, line 1)",
     "output_type": "error",
     "traceback": [
      "\u001b[0;36m  Cell \u001b[0;32mIn[6], line 1\u001b[0;36m\u001b[0m\n\u001b[0;31m    def create_binary_tensors(text):\u001b[0m\n\u001b[0m                                    ^\u001b[0m\n\u001b[0;31mSyntaxError\u001b[0m\u001b[0;31m:\u001b[0m incomplete input\n"
     ]
    }
   ],
   "source": [
    "def create_binary_tensors(text):\n",
    "    \n",
    "    for word in tokenizer(text):\n",
    "        "
   ]
  }
 ],
 "metadata": {
  "kernelspec": {
   "display_name": "Python 3 (ipykernel)",
   "language": "python",
   "name": "python3"
  },
  "language_info": {
   "codemirror_mode": {
    "name": "ipython",
    "version": 3
   },
   "file_extension": ".py",
   "mimetype": "text/x-python",
   "name": "python",
   "nbconvert_exporter": "python",
   "pygments_lexer": "ipython3",
   "version": "3.10.13"
  }
 },
 "nbformat": 4,
 "nbformat_minor": 5
}

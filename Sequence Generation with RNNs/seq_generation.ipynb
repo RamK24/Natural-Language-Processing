{
 "cells": [
  {
   "cell_type": "code",
   "execution_count": 43,
   "id": "590d4fac-534b-4dde-86dc-36317565c10e",
   "metadata": {},
   "outputs": [],
   "source": [
    "import torch\n",
    "import torch.nn as nn\n",
    "import torch.optim as optim\n",
    "from collections import OrderedDict\n",
    "from torch.utils.data import Dataset, DataLoader\n",
    "from tqdm import tqdm"
   ]
  },
  {
   "cell_type": "code",
   "execution_count": 2,
   "id": "e635d219-303f-48ef-a91e-5ff90da72abf",
   "metadata": {},
   "outputs": [],
   "source": [
    "class Tokenizer():\n",
    "    def __init__(self, file_path):\n",
    "        self.sonnets = []\n",
    "        self.vocab = self.create_vocab(file_path)\n",
    "        self.stoi, self.itos = self.create_dict()\n",
    "        self.file_path = file_path\n",
    "        self.max_len = max([len(i) for i in self.sonnets])\n",
    "        self.indexes = torch.arange(len(self.vocab))\n",
    "\n",
    "    def create_vocab(self, path):\n",
    "        f = open(path)\n",
    "        vocab_set = {'<SOS>', '<EOS>'}\n",
    "        sonnet = []\n",
    "        for line in f.readlines():\n",
    "            try:\n",
    "                int(line.strip())\n",
    "                if sonnet:\n",
    "                    sonnet = ['<SOS>'] + sonnet + ['<EOS>']\n",
    "                    self.sonnets.append(sonnet)\n",
    "                sonnet = []\n",
    "            except ValueError:\n",
    "                words = [i.lower().strip() for i in line.split()]\n",
    "                sonnet += (words)\n",
    "                vocab_set.update(set(words))\n",
    "        sonnet = ['<SOS>'] + sonnet + ['<EOS>']\n",
    "        self.sonnets.append(sonnet)\n",
    "        return vocab_set\n",
    "\n",
    "    def create_dict(self):\n",
    "        stoi = OrderedDict()\n",
    "        itos = OrderedDict()\n",
    "        for i, token in enumerate(self.vocab):\n",
    "            stoi[token] = i\n",
    "            itos[i] = token\n",
    "        return stoi, itos\n",
    "\n",
    "    def sonnet_to_tensor(self, sonnet):\n",
    "        x = torch.zeros(self.max_len, len(self.vocab))\n",
    "        for idx, word in enumerate(sonnet):\n",
    "            x[idx, self.stoi[word]] = 1\n",
    "        return x\n",
    "\n",
    "    def get_tensor_data(self):\n",
    "        data_tensor = torch.zeros(len(self.sonnets), self.max_len, len(self.vocab))\n",
    "        for idx, sonnet in enumerate(self.sonnets):\n",
    "            data_tensor[idx] = self.sonnet_to_tensor(sonnet)\n",
    "        return data_tensor\n",
    "\n",
    "    def word_to_one_hot(self, index, batch_size=1):\n",
    "        x = torch.zeros(batch_size, 1, len(self.vocab))\n",
    "        x[:, :, index] = 1\n",
    "        return x\n",
    "\n",
    "    def word_to_one_hot_batch(self, index):\n",
    "        x = torch.zeros(index.shape[0], 1, len(self.vocab))\n",
    "        for i, idx in enumerate(index):\n",
    "            x[i] = self.word_to_one_hot(idx)  \n",
    "        return x\n",
    "        \n",
    "    def decode(self, sonnet):\n",
    "        words = ''\n",
    "        try:\n",
    "            for idx, row in enumerate(sonnet):\n",
    "                words += self.itos[self.indexes[row.to(torch.bool)].item()] + ' '        \n",
    "        except RuntimeError:\n",
    "            pass\n",
    "        return words"
   ]
  },
  {
   "cell_type": "code",
   "execution_count": 3,
   "id": "f7067dd1-1ea4-421d-b304-f6da1aa51efa",
   "metadata": {},
   "outputs": [],
   "source": [
    "tokenizer = Tokenizer('shakespeare.txt')"
   ]
  },
  {
   "cell_type": "code",
   "execution_count": 4,
   "id": "2779a9ff-4c72-4863-bb90-40145bc4b0a3",
   "metadata": {},
   "outputs": [],
   "source": [
    "data_tensor = tokenizer.get_tensor_data()"
   ]
  },
  {
   "cell_type": "code",
   "execution_count": 5,
   "id": "5ce2068e-1c86-421a-8f2e-2d81e7827c4f",
   "metadata": {},
   "outputs": [],
   "source": [
    "class SonnetDataset(Dataset):\n",
    "    def __init__(self, x):\n",
    "        self.x = x\n",
    "        self.samples = x.shape[0]\n",
    "\n",
    "    def __getitem__(self, idx):\n",
    "        return self.x[idx]\n",
    "\n",
    "    def __len__(self):\n",
    "        return self.samples"
   ]
  },
  {
   "cell_type": "code",
   "execution_count": 6,
   "id": "ea1ded3a-7630-4dee-9bc5-07b795db7fa5",
   "metadata": {},
   "outputs": [],
   "source": [
    "train_dataset = SonnetDataset(data_tensor)\n",
    "train_loader = DataLoader(train_dataset, batch_size=16, shuffle=True)"
   ]
  },
  {
   "cell_type": "code",
   "execution_count": 7,
   "id": "86f9a796-7ad6-44cf-b485-7661a01d1095",
   "metadata": {},
   "outputs": [],
   "source": [
    "class SeqGeneration(nn.Module):\n",
    "    def __init__(self, input_size, hidden_size, num_cells, vocab_length, cell_init='rnn', bidirectional=False):\n",
    "        super().__init__()\n",
    "        self.input_size = input_size\n",
    "        self.hidden_size = hidden_size\n",
    "        self.num_cells = num_cells\n",
    "        self.num_directions = 2 if bidirectional else 1\n",
    "        self.cell_init = cell_init\n",
    "        if cell_init == 'rnn':\n",
    "            self.cell = nn.RNN(input_size, hidden_size, num_cells, batch_first=True, bidirectional=bidirectional)\n",
    "        elif cell_init == 'gru':\n",
    "            self.cell = nn.GRU(input_size, hidden_size, num_cells, batch_first=True, bidirectional=bidirectional)\n",
    "        elif cell_init == 'lstm':\n",
    "            self.cell = nn.LSTM(input_size, hidden_size, num_cells, batch_first=True, bidirectional=bidirectional)\n",
    "        else:\n",
    "            raise Exception('Invalid cell type')\n",
    "        self.fc1 = nn.Linear(self.num_directions*hidden_size, vocab_length)\n",
    "        self.softmax = nn.LogSoftmax(dim=-1)\n",
    "        \n",
    "\n",
    "    def forward(self, x, h0=None, c0=None, device='mps'):\n",
    "        # data you pass will be the first time step only.\n",
    "        if h0 is None:\n",
    "            h0 = torch.zeros(self.num_directions*self.num_cells, x.shape[0], self.hidden_size, device=device)\n",
    "        if self.cell_init == 'lstm':\n",
    "            if c0 is None:\n",
    "                c0 = torch.zeros(self.num_directions*self.num_cells, x.shape[0], self.hidden_size, device=device)\n",
    "            hidden_states, (ht_all, c0) = self.cell(x, (h0, c0))\n",
    "        else:\n",
    "            hidden_states, ht_all = self.cell(x, h0)\n",
    "            # ht will always be of the shape h0 \n",
    "        ht = hidden_states[:, -1, :]\n",
    "        logits = self.fc1(ht)\n",
    "        scores = self.softmax(logits)\n",
    "        return scores, ht_all, c0"
   ]
  },
  {
   "cell_type": "code",
   "execution_count": 8,
   "id": "4d56979c-05ad-41b6-a970-46f20085873e",
   "metadata": {},
   "outputs": [],
   "source": [
    "model = SeqGeneration(len(tokenizer.vocab), 256, 1, len(tokenizer.vocab), 'lstm', True)\n",
    "# model.load_state_dict(torch.load('SeqGeneration.pth'))\n",
    "device = 'mps'\n",
    "model = model.to(device)\n",
    "loss = nn.NLLLoss()\n",
    "optimizer = optim.Adam(model.parameters(), lr=1e-3)"
   ]
  },
  {
   "cell_type": "code",
   "execution_count": 9,
   "id": "567f5e53-2ce1-450f-8371-c1065c8650e7",
   "metadata": {},
   "outputs": [],
   "source": [
    "def train(model, train_loader, train_params, tokenizer):\n",
    "    min_loss = float('inf')\n",
    "    epochs = train_params['epochs']\n",
    "    loss = train_params['loss']\n",
    "    optimizer = train_params['optimizer']\n",
    "    for epoch in range(epochs):\n",
    "        loss_at_batch = None\n",
    "        for x in tqdm(train_loader, desc=f'Epoch: {epoch}/{epochs}, best loss: {min_loss}'):\n",
    "            loss_at_batch = []\n",
    "            ht = None\n",
    "            c0 = None\n",
    "            x = x.to(device)\n",
    "            for t in range(x.shape[1] - 1):\n",
    "                xt = x[:, t:t+1, :]\n",
    "                scores, ht, c0 = model(xt, ht, c0)\n",
    "                next_word_index = torch.argmax(scores, dim=1)\n",
    "                labels = x[:, t+1:t+2, :]\n",
    "                labels = torch.argmax(labels, dim=2).flatten()\n",
    "                loss_at_timestep = loss(scores, labels)\n",
    "                loss_at_batch.append(loss_at_timestep)\n",
    "                xt = tokenizer.word_to_one_hot_batch(next_word_index)\n",
    "                xt = xt.to(device)\n",
    "            loss_at_batch = sum(loss_at_batch)/len(loss_at_batch)\n",
    "            optimizer.zero_grad()\n",
    "            loss_at_batch.backward()\n",
    "            torch.nn.utils.clip_grad_value_(model.parameters(), 0.5)\n",
    "            optimizer.step()\n",
    "        if loss_at_batch < min_loss:\n",
    "            torch.save(model.state_dict(), 'SeqGeneration_gru.pth')\n",
    "            min_loss = loss_at_batch\n",
    "            print('saving model')"
   ]
  },
  {
   "cell_type": "code",
   "execution_count": 15,
   "id": "a65aca48-6774-4ddd-a3a4-9fe0dd272db0",
   "metadata": {},
   "outputs": [],
   "source": [
    "def generate_text(model, sos_tensor, tokenizer):\n",
    "    curr_token = ''\n",
    "    sonnet = ''\n",
    "    pred = ''\n",
    "    ht = None\n",
    "    while curr_token != '<EOS>' and len(sonnet.split()) < tokenizer.max_len:\n",
    "        sonnet += pred + ' '\n",
    "        scores, ht, ct = model(sos_tensor, ht, None, 'cpu')\n",
    "        # pred = tokenizer.itos[torch.argmax(scores).item()] always generates the same sequence\n",
    "        # sample to generate different sequences each time.\n",
    "        pred = tokenizer.itos[torch.argmax(scores).item()]\n",
    "        random_word_index = torch.multinomial(torch.exp(scores).flatten(), num_samples=1).item()\n",
    "        curr_token = pred\n",
    "        sos_tensor = tokenizer.word_to_one_hot(tokenizer.stoi[tokenizer.itos[random_word_index]], 1)\n",
    "    return sonnet"
   ]
  },
  {
   "cell_type": "code",
   "execution_count": 11,
   "id": "ad9005b3-692f-4630-966e-6a2cabd579ca",
   "metadata": {
    "scrolled": true
   },
   "outputs": [
    {
     "name": "stderr",
     "output_type": "stream",
     "text": [
      "Epoch: 0/200, best loss: inf: 100%|█████████████| 10/10 [00:08<00:00,  1.21it/s]\n"
     ]
    },
    {
     "name": "stdout",
     "output_type": "stream",
     "text": [
      "saving model\n"
     ]
    },
    {
     "name": "stderr",
     "output_type": "stream",
     "text": [
      "Epoch: 1/200, best loss: 6.950695037841797: 100%|█| 10/10 [00:07<00:00,  1.28it/\n"
     ]
    },
    {
     "name": "stdout",
     "output_type": "stream",
     "text": [
      "saving model\n"
     ]
    },
    {
     "name": "stderr",
     "output_type": "stream",
     "text": [
      "Epoch: 2/200, best loss: 6.654219627380371: 100%|█| 10/10 [00:07<00:00,  1.28it/\n"
     ]
    },
    {
     "name": "stdout",
     "output_type": "stream",
     "text": [
      "saving model\n"
     ]
    },
    {
     "name": "stderr",
     "output_type": "stream",
     "text": [
      "Epoch: 3/200, best loss: 6.40230655670166: 100%|█| 10/10 [00:07<00:00,  1.29it/s\n"
     ]
    },
    {
     "name": "stdout",
     "output_type": "stream",
     "text": [
      "saving model\n"
     ]
    },
    {
     "name": "stderr",
     "output_type": "stream",
     "text": [
      "Epoch: 4/200, best loss: 6.383993625640869: 100%|█| 10/10 [00:07<00:00,  1.28it/\n"
     ]
    },
    {
     "name": "stdout",
     "output_type": "stream",
     "text": [
      "saving model\n"
     ]
    },
    {
     "name": "stderr",
     "output_type": "stream",
     "text": [
      "Epoch: 5/200, best loss: 6.356734275817871: 100%|█| 10/10 [00:08<00:00,  1.22it/\n",
      "Epoch: 6/200, best loss: 6.356734275817871: 100%|█| 10/10 [00:08<00:00,  1.22it/\n"
     ]
    },
    {
     "name": "stdout",
     "output_type": "stream",
     "text": [
      "saving model\n"
     ]
    },
    {
     "name": "stderr",
     "output_type": "stream",
     "text": [
      "Epoch: 7/200, best loss: 6.340819358825684: 100%|█| 10/10 [00:08<00:00,  1.20it/\n"
     ]
    },
    {
     "name": "stdout",
     "output_type": "stream",
     "text": [
      "saving model\n"
     ]
    },
    {
     "name": "stderr",
     "output_type": "stream",
     "text": [
      "Epoch: 8/200, best loss: 6.26102352142334: 100%|█| 10/10 [00:07<00:00,  1.28it/s\n"
     ]
    },
    {
     "name": "stdout",
     "output_type": "stream",
     "text": [
      "saving model\n"
     ]
    },
    {
     "name": "stderr",
     "output_type": "stream",
     "text": [
      "Epoch: 9/200, best loss: 6.187981605529785: 100%|█| 10/10 [00:07<00:00,  1.28it/\n",
      "Epoch: 10/200, best loss: 6.187981605529785: 100%|█| 10/10 [00:07<00:00,  1.26it\n",
      "Epoch: 11/200, best loss: 6.187981605529785: 100%|█| 10/10 [00:08<00:00,  1.19it\n"
     ]
    },
    {
     "name": "stdout",
     "output_type": "stream",
     "text": [
      "saving model\n"
     ]
    },
    {
     "name": "stderr",
     "output_type": "stream",
     "text": [
      "Epoch: 12/200, best loss: 6.1354522705078125: 100%|█| 10/10 [00:07<00:00,  1.27i\n",
      "Epoch: 13/200, best loss: 6.1354522705078125: 100%|█| 10/10 [00:07<00:00,  1.27i\n",
      "Epoch: 14/200, best loss: 6.1354522705078125: 100%|█| 10/10 [00:07<00:00,  1.27i\n",
      "Epoch: 15/200, best loss: 6.1354522705078125: 100%|█| 10/10 [00:07<00:00,  1.28i\n"
     ]
    },
    {
     "name": "stdout",
     "output_type": "stream",
     "text": [
      "saving model\n"
     ]
    },
    {
     "name": "stderr",
     "output_type": "stream",
     "text": [
      "Epoch: 16/200, best loss: 6.075062274932861: 100%|█| 10/10 [00:07<00:00,  1.27it\n",
      "Epoch: 17/200, best loss: 6.075062274932861: 100%|█| 10/10 [00:07<00:00,  1.26it\n",
      "Epoch: 18/200, best loss: 6.075062274932861: 100%|█| 10/10 [00:07<00:00,  1.28it\n",
      "Epoch: 19/200, best loss: 6.075062274932861: 100%|█| 10/10 [00:07<00:00,  1.27it\n"
     ]
    },
    {
     "name": "stdout",
     "output_type": "stream",
     "text": [
      "saving model\n"
     ]
    },
    {
     "name": "stderr",
     "output_type": "stream",
     "text": [
      "Epoch: 20/200, best loss: 6.068410396575928: 100%|█| 10/10 [00:07<00:00,  1.28it\n"
     ]
    },
    {
     "name": "stdout",
     "output_type": "stream",
     "text": [
      "saving model\n"
     ]
    },
    {
     "name": "stderr",
     "output_type": "stream",
     "text": [
      "Epoch: 21/200, best loss: 6.013192176818848: 100%|█| 10/10 [00:08<00:00,  1.23it\n",
      "Epoch: 22/200, best loss: 6.013192176818848: 100%|█| 10/10 [00:08<00:00,  1.20it\n",
      "Epoch: 23/200, best loss: 6.013192176818848: 100%|█| 10/10 [00:08<00:00,  1.24it\n"
     ]
    },
    {
     "name": "stdout",
     "output_type": "stream",
     "text": [
      "saving model\n"
     ]
    },
    {
     "name": "stderr",
     "output_type": "stream",
     "text": [
      "Epoch: 24/200, best loss: 5.893638610839844: 100%|█| 10/10 [00:07<00:00,  1.26it\n"
     ]
    },
    {
     "name": "stdout",
     "output_type": "stream",
     "text": [
      "saving model\n"
     ]
    },
    {
     "name": "stderr",
     "output_type": "stream",
     "text": [
      "Epoch: 25/200, best loss: 5.891335964202881: 100%|█| 10/10 [00:07<00:00,  1.29it\n"
     ]
    },
    {
     "name": "stdout",
     "output_type": "stream",
     "text": [
      "saving model\n"
     ]
    },
    {
     "name": "stderr",
     "output_type": "stream",
     "text": [
      "Epoch: 26/200, best loss: 5.826259613037109: 100%|█| 10/10 [00:07<00:00,  1.28it\n"
     ]
    },
    {
     "name": "stdout",
     "output_type": "stream",
     "text": [
      "saving model\n"
     ]
    },
    {
     "name": "stderr",
     "output_type": "stream",
     "text": [
      "Epoch: 27/200, best loss: 5.674631118774414: 100%|█| 10/10 [00:07<00:00,  1.29it\n"
     ]
    },
    {
     "name": "stdout",
     "output_type": "stream",
     "text": [
      "saving model\n"
     ]
    },
    {
     "name": "stderr",
     "output_type": "stream",
     "text": [
      "Epoch: 28/200, best loss: 5.653427600860596: 100%|█| 10/10 [00:07<00:00,  1.29it\n",
      "Epoch: 29/200, best loss: 5.653427600860596: 100%|█| 10/10 [00:07<00:00,  1.29it\n"
     ]
    },
    {
     "name": "stdout",
     "output_type": "stream",
     "text": [
      "saving model\n"
     ]
    },
    {
     "name": "stderr",
     "output_type": "stream",
     "text": [
      "Epoch: 30/200, best loss: 5.608627796173096: 100%|█| 10/10 [00:07<00:00,  1.29it\n"
     ]
    },
    {
     "name": "stdout",
     "output_type": "stream",
     "text": [
      "saving model\n"
     ]
    },
    {
     "name": "stderr",
     "output_type": "stream",
     "text": [
      "Epoch: 31/200, best loss: 5.494716167449951: 100%|█| 10/10 [00:07<00:00,  1.29it\n"
     ]
    },
    {
     "name": "stdout",
     "output_type": "stream",
     "text": [
      "saving model\n"
     ]
    },
    {
     "name": "stderr",
     "output_type": "stream",
     "text": [
      "Epoch: 32/200, best loss: 5.478898525238037: 100%|█| 10/10 [00:07<00:00,  1.29it\n"
     ]
    },
    {
     "name": "stdout",
     "output_type": "stream",
     "text": [
      "saving model\n"
     ]
    },
    {
     "name": "stderr",
     "output_type": "stream",
     "text": [
      "Epoch: 33/200, best loss: 5.4262847900390625: 100%|█| 10/10 [00:07<00:00,  1.29i\n",
      "Epoch: 34/200, best loss: 5.4262847900390625: 100%|█| 10/10 [00:07<00:00,  1.29i\n"
     ]
    },
    {
     "name": "stdout",
     "output_type": "stream",
     "text": [
      "saving model\n"
     ]
    },
    {
     "name": "stderr",
     "output_type": "stream",
     "text": [
      "Epoch: 35/200, best loss: 5.342709064483643: 100%|█| 10/10 [00:07<00:00,  1.28it\n",
      "Epoch: 36/200, best loss: 5.342709064483643: 100%|█| 10/10 [00:07<00:00,  1.29it\n"
     ]
    },
    {
     "name": "stdout",
     "output_type": "stream",
     "text": [
      "saving model\n"
     ]
    },
    {
     "name": "stderr",
     "output_type": "stream",
     "text": [
      "Epoch: 37/200, best loss: 5.28896951675415: 100%|█| 10/10 [00:07<00:00,  1.28it/\n"
     ]
    },
    {
     "name": "stdout",
     "output_type": "stream",
     "text": [
      "saving model\n"
     ]
    },
    {
     "name": "stderr",
     "output_type": "stream",
     "text": [
      "Epoch: 38/200, best loss: 5.088871002197266: 100%|█| 10/10 [00:07<00:00,  1.28it\n",
      "Epoch: 39/200, best loss: 5.088871002197266: 100%|█| 10/10 [00:07<00:00,  1.27it\n"
     ]
    },
    {
     "name": "stdout",
     "output_type": "stream",
     "text": [
      "saving model\n"
     ]
    },
    {
     "name": "stderr",
     "output_type": "stream",
     "text": [
      "Epoch: 40/200, best loss: 5.086554527282715: 100%|█| 10/10 [00:08<00:00,  1.23it\n"
     ]
    },
    {
     "name": "stdout",
     "output_type": "stream",
     "text": [
      "saving model\n"
     ]
    },
    {
     "name": "stderr",
     "output_type": "stream",
     "text": [
      "Epoch: 41/200, best loss: 4.8733296394348145: 100%|█| 10/10 [00:08<00:00,  1.21i\n",
      "Epoch: 42/200, best loss: 4.8733296394348145: 100%|█| 10/10 [00:07<00:00,  1.26i\n"
     ]
    },
    {
     "name": "stdout",
     "output_type": "stream",
     "text": [
      "saving model\n"
     ]
    },
    {
     "name": "stderr",
     "output_type": "stream",
     "text": [
      "Epoch: 43/200, best loss: 4.830920219421387: 100%|█| 10/10 [00:07<00:00,  1.27it\n"
     ]
    },
    {
     "name": "stdout",
     "output_type": "stream",
     "text": [
      "saving model\n"
     ]
    },
    {
     "name": "stderr",
     "output_type": "stream",
     "text": [
      "Epoch: 44/200, best loss: 4.6931962966918945: 100%|█| 10/10 [00:07<00:00,  1.27i\n"
     ]
    },
    {
     "name": "stdout",
     "output_type": "stream",
     "text": [
      "saving model\n"
     ]
    },
    {
     "name": "stderr",
     "output_type": "stream",
     "text": [
      "Epoch: 45/200, best loss: 4.53828763961792: 100%|█| 10/10 [00:07<00:00,  1.27it/\n",
      "Epoch: 46/200, best loss: 4.53828763961792: 100%|█| 10/10 [00:07<00:00,  1.26it/\n"
     ]
    },
    {
     "name": "stdout",
     "output_type": "stream",
     "text": [
      "saving model\n"
     ]
    },
    {
     "name": "stderr",
     "output_type": "stream",
     "text": [
      "Epoch: 47/200, best loss: 4.348770618438721: 100%|█| 10/10 [00:07<00:00,  1.26it\n"
     ]
    },
    {
     "name": "stdout",
     "output_type": "stream",
     "text": [
      "saving model\n"
     ]
    },
    {
     "name": "stderr",
     "output_type": "stream",
     "text": [
      "Epoch: 48/200, best loss: 4.146220684051514: 100%|█| 10/10 [00:07<00:00,  1.28it\n",
      "Epoch: 49/200, best loss: 4.146220684051514: 100%|█| 10/10 [00:07<00:00,  1.29it\n"
     ]
    },
    {
     "name": "stdout",
     "output_type": "stream",
     "text": [
      "saving model\n"
     ]
    },
    {
     "name": "stderr",
     "output_type": "stream",
     "text": [
      "Epoch: 50/200, best loss: 3.999760627746582: 100%|█| 10/10 [00:07<00:00,  1.29it\n"
     ]
    },
    {
     "name": "stdout",
     "output_type": "stream",
     "text": [
      "saving model\n"
     ]
    },
    {
     "name": "stderr",
     "output_type": "stream",
     "text": [
      "Epoch: 51/200, best loss: 3.966996192932129: 100%|█| 10/10 [00:07<00:00,  1.29it\n"
     ]
    },
    {
     "name": "stdout",
     "output_type": "stream",
     "text": [
      "saving model\n"
     ]
    },
    {
     "name": "stderr",
     "output_type": "stream",
     "text": [
      "Epoch: 52/200, best loss: 3.962934970855713: 100%|█| 10/10 [00:07<00:00,  1.29it\n"
     ]
    },
    {
     "name": "stdout",
     "output_type": "stream",
     "text": [
      "saving model\n"
     ]
    },
    {
     "name": "stderr",
     "output_type": "stream",
     "text": [
      "Epoch: 53/200, best loss: 3.796117067337036: 100%|█| 10/10 [00:07<00:00,  1.29it\n"
     ]
    },
    {
     "name": "stdout",
     "output_type": "stream",
     "text": [
      "saving model\n"
     ]
    },
    {
     "name": "stderr",
     "output_type": "stream",
     "text": [
      "Epoch: 54/200, best loss: 3.748600482940674: 100%|█| 10/10 [00:07<00:00,  1.29it\n"
     ]
    },
    {
     "name": "stdout",
     "output_type": "stream",
     "text": [
      "saving model\n"
     ]
    },
    {
     "name": "stderr",
     "output_type": "stream",
     "text": [
      "Epoch: 55/200, best loss: 3.473721742630005: 100%|█| 10/10 [00:07<00:00,  1.27it\n",
      "Epoch: 56/200, best loss: 3.473721742630005: 100%|█| 10/10 [00:07<00:00,  1.26it\n"
     ]
    },
    {
     "name": "stdout",
     "output_type": "stream",
     "text": [
      "saving model\n"
     ]
    },
    {
     "name": "stderr",
     "output_type": "stream",
     "text": [
      "Epoch: 57/200, best loss: 3.245720386505127: 100%|█| 10/10 [00:08<00:00,  1.25it\n"
     ]
    },
    {
     "name": "stdout",
     "output_type": "stream",
     "text": [
      "saving model\n"
     ]
    },
    {
     "name": "stderr",
     "output_type": "stream",
     "text": [
      "Epoch: 58/200, best loss: 3.146211624145508: 100%|█| 10/10 [00:08<00:00,  1.24it\n"
     ]
    },
    {
     "name": "stdout",
     "output_type": "stream",
     "text": [
      "saving model\n"
     ]
    },
    {
     "name": "stderr",
     "output_type": "stream",
     "text": [
      "Epoch: 59/200, best loss: 3.0613207817077637: 100%|█| 10/10 [00:08<00:00,  1.23i\n"
     ]
    },
    {
     "name": "stdout",
     "output_type": "stream",
     "text": [
      "saving model\n"
     ]
    },
    {
     "name": "stderr",
     "output_type": "stream",
     "text": [
      "Epoch: 60/200, best loss: 2.9243290424346924: 100%|█| 10/10 [00:07<00:00,  1.26i\n"
     ]
    },
    {
     "name": "stdout",
     "output_type": "stream",
     "text": [
      "saving model\n"
     ]
    },
    {
     "name": "stderr",
     "output_type": "stream",
     "text": [
      "Epoch: 61/200, best loss: 2.769000768661499: 100%|█| 10/10 [00:07<00:00,  1.27it\n",
      "Epoch: 62/200, best loss: 2.769000768661499: 100%|█| 10/10 [00:08<00:00,  1.16it\n"
     ]
    },
    {
     "name": "stdout",
     "output_type": "stream",
     "text": [
      "saving model\n"
     ]
    },
    {
     "name": "stderr",
     "output_type": "stream",
     "text": [
      "Epoch: 63/200, best loss: 2.5599892139434814: 100%|█| 10/10 [00:08<00:00,  1.22i\n"
     ]
    },
    {
     "name": "stdout",
     "output_type": "stream",
     "text": [
      "saving model\n"
     ]
    },
    {
     "name": "stderr",
     "output_type": "stream",
     "text": [
      "Epoch: 64/200, best loss: 2.426161766052246: 100%|█| 10/10 [00:08<00:00,  1.19it\n"
     ]
    },
    {
     "name": "stdout",
     "output_type": "stream",
     "text": [
      "saving model\n"
     ]
    },
    {
     "name": "stderr",
     "output_type": "stream",
     "text": [
      "Epoch: 65/200, best loss: 2.3817026615142822: 100%|█| 10/10 [00:08<00:00,  1.23i\n"
     ]
    },
    {
     "name": "stdout",
     "output_type": "stream",
     "text": [
      "saving model\n"
     ]
    },
    {
     "name": "stderr",
     "output_type": "stream",
     "text": [
      "Epoch: 66/200, best loss: 2.162590265274048: 100%|█| 10/10 [00:07<00:00,  1.27it\n",
      "Epoch: 67/200, best loss: 2.162590265274048: 100%|█| 10/10 [00:07<00:00,  1.27it\n"
     ]
    },
    {
     "name": "stdout",
     "output_type": "stream",
     "text": [
      "saving model\n"
     ]
    },
    {
     "name": "stderr",
     "output_type": "stream",
     "text": [
      "Epoch: 68/200, best loss: 1.9723268747329712: 100%|█| 10/10 [00:07<00:00,  1.27i\n"
     ]
    },
    {
     "name": "stdout",
     "output_type": "stream",
     "text": [
      "saving model\n"
     ]
    },
    {
     "name": "stderr",
     "output_type": "stream",
     "text": [
      "Epoch: 69/200, best loss: 1.9094074964523315: 100%|█| 10/10 [00:07<00:00,  1.27i\n"
     ]
    },
    {
     "name": "stdout",
     "output_type": "stream",
     "text": [
      "saving model\n"
     ]
    },
    {
     "name": "stderr",
     "output_type": "stream",
     "text": [
      "Epoch: 70/200, best loss: 1.7295185327529907: 100%|█| 10/10 [00:07<00:00,  1.29i\n",
      "Epoch: 71/200, best loss: 1.7295185327529907: 100%|█| 10/10 [00:07<00:00,  1.27i\n"
     ]
    },
    {
     "name": "stdout",
     "output_type": "stream",
     "text": [
      "saving model\n"
     ]
    },
    {
     "name": "stderr",
     "output_type": "stream",
     "text": [
      "Epoch: 72/200, best loss: 1.679146409034729: 100%|█| 10/10 [00:07<00:00,  1.27it\n"
     ]
    },
    {
     "name": "stdout",
     "output_type": "stream",
     "text": [
      "saving model\n"
     ]
    },
    {
     "name": "stderr",
     "output_type": "stream",
     "text": [
      "Epoch: 73/200, best loss: 1.4014545679092407: 100%|█| 10/10 [00:07<00:00,  1.27i\n",
      "Epoch: 74/200, best loss: 1.4014545679092407: 100%|█| 10/10 [00:07<00:00,  1.25i\n"
     ]
    },
    {
     "name": "stdout",
     "output_type": "stream",
     "text": [
      "saving model\n"
     ]
    },
    {
     "name": "stderr",
     "output_type": "stream",
     "text": [
      "Epoch: 75/200, best loss: 1.3043417930603027: 100%|█| 10/10 [00:07<00:00,  1.28i\n",
      "Epoch: 76/200, best loss: 1.3043417930603027: 100%|█| 10/10 [00:07<00:00,  1.27i\n"
     ]
    },
    {
     "name": "stdout",
     "output_type": "stream",
     "text": [
      "saving model\n"
     ]
    },
    {
     "name": "stderr",
     "output_type": "stream",
     "text": [
      "Epoch: 77/200, best loss: 1.1688367128372192: 100%|█| 10/10 [00:07<00:00,  1.28i\n"
     ]
    },
    {
     "name": "stdout",
     "output_type": "stream",
     "text": [
      "saving model\n"
     ]
    },
    {
     "name": "stderr",
     "output_type": "stream",
     "text": [
      "Epoch: 78/200, best loss: 1.0335795879364014: 100%|█| 10/10 [00:08<00:00,  1.25i\n",
      "Epoch: 79/200, best loss: 1.0335795879364014: 100%|█| 10/10 [00:07<00:00,  1.28i\n"
     ]
    },
    {
     "name": "stdout",
     "output_type": "stream",
     "text": [
      "saving model\n"
     ]
    },
    {
     "name": "stderr",
     "output_type": "stream",
     "text": [
      "Epoch: 80/200, best loss: 0.9890214800834656: 100%|█| 10/10 [00:07<00:00,  1.27i\n"
     ]
    },
    {
     "name": "stdout",
     "output_type": "stream",
     "text": [
      "saving model\n"
     ]
    },
    {
     "name": "stderr",
     "output_type": "stream",
     "text": [
      "Epoch: 81/200, best loss: 0.9470802545547485: 100%|█| 10/10 [00:07<00:00,  1.28i\n"
     ]
    },
    {
     "name": "stdout",
     "output_type": "stream",
     "text": [
      "saving model\n"
     ]
    },
    {
     "name": "stderr",
     "output_type": "stream",
     "text": [
      "Epoch: 82/200, best loss: 0.8834066390991211: 100%|█| 10/10 [00:07<00:00,  1.27i\n"
     ]
    },
    {
     "name": "stdout",
     "output_type": "stream",
     "text": [
      "saving model\n"
     ]
    },
    {
     "name": "stderr",
     "output_type": "stream",
     "text": [
      "Epoch: 83/200, best loss: 0.8569352030754089: 100%|█| 10/10 [00:07<00:00,  1.28i\n"
     ]
    },
    {
     "name": "stdout",
     "output_type": "stream",
     "text": [
      "saving model\n"
     ]
    },
    {
     "name": "stderr",
     "output_type": "stream",
     "text": [
      "Epoch: 84/200, best loss: 0.7317513823509216: 100%|█| 10/10 [00:07<00:00,  1.28i\n",
      "Epoch: 85/200, best loss: 0.7317513823509216: 100%|█| 10/10 [00:07<00:00,  1.28i\n"
     ]
    },
    {
     "name": "stdout",
     "output_type": "stream",
     "text": [
      "saving model\n"
     ]
    },
    {
     "name": "stderr",
     "output_type": "stream",
     "text": [
      "Epoch: 86/200, best loss: 0.6732689142227173: 100%|█| 10/10 [00:07<00:00,  1.27i\n"
     ]
    },
    {
     "name": "stdout",
     "output_type": "stream",
     "text": [
      "saving model\n"
     ]
    },
    {
     "name": "stderr",
     "output_type": "stream",
     "text": [
      "Epoch: 87/200, best loss: 0.6570603847503662: 100%|█| 10/10 [00:08<00:00,  1.25i\n"
     ]
    },
    {
     "name": "stdout",
     "output_type": "stream",
     "text": [
      "saving model\n"
     ]
    },
    {
     "name": "stderr",
     "output_type": "stream",
     "text": [
      "Epoch: 88/200, best loss: 0.6239015460014343: 100%|█| 10/10 [00:07<00:00,  1.27i\n"
     ]
    },
    {
     "name": "stdout",
     "output_type": "stream",
     "text": [
      "saving model\n"
     ]
    },
    {
     "name": "stderr",
     "output_type": "stream",
     "text": [
      "Epoch: 89/200, best loss: 0.5515395998954773: 100%|█| 10/10 [00:07<00:00,  1.28i\n"
     ]
    },
    {
     "name": "stdout",
     "output_type": "stream",
     "text": [
      "saving model\n"
     ]
    },
    {
     "name": "stderr",
     "output_type": "stream",
     "text": [
      "Epoch: 90/200, best loss: 0.5243595242500305: 100%|█| 10/10 [00:07<00:00,  1.27i\n",
      "Epoch: 91/200, best loss: 0.5243595242500305: 100%|█| 10/10 [00:07<00:00,  1.27i\n"
     ]
    },
    {
     "name": "stdout",
     "output_type": "stream",
     "text": [
      "saving model\n"
     ]
    },
    {
     "name": "stderr",
     "output_type": "stream",
     "text": [
      "Epoch: 92/200, best loss: 0.4837191700935364: 100%|█| 10/10 [00:07<00:00,  1.28i\n"
     ]
    },
    {
     "name": "stdout",
     "output_type": "stream",
     "text": [
      "saving model\n"
     ]
    },
    {
     "name": "stderr",
     "output_type": "stream",
     "text": [
      "Epoch: 93/200, best loss: 0.47021445631980896: 100%|█| 10/10 [00:07<00:00,  1.29\n",
      "Epoch: 94/200, best loss: 0.47021445631980896: 100%|█| 10/10 [00:07<00:00,  1.28\n"
     ]
    },
    {
     "name": "stdout",
     "output_type": "stream",
     "text": [
      "saving model\n"
     ]
    },
    {
     "name": "stderr",
     "output_type": "stream",
     "text": [
      "Epoch: 95/200, best loss: 0.4264366924762726: 100%|█| 10/10 [00:07<00:00,  1.29i\n"
     ]
    },
    {
     "name": "stdout",
     "output_type": "stream",
     "text": [
      "saving model\n"
     ]
    },
    {
     "name": "stderr",
     "output_type": "stream",
     "text": [
      "Epoch: 96/200, best loss: 0.4147954285144806: 100%|█| 10/10 [00:08<00:00,  1.22i\n"
     ]
    },
    {
     "name": "stdout",
     "output_type": "stream",
     "text": [
      "saving model\n"
     ]
    },
    {
     "name": "stderr",
     "output_type": "stream",
     "text": [
      "Epoch: 97/200, best loss: 0.3745182454586029: 100%|█| 10/10 [00:07<00:00,  1.25i\n",
      "Epoch: 98/200, best loss: 0.3745182454586029: 100%|█| 10/10 [00:08<00:00,  1.23i\n",
      "Epoch: 99/200, best loss: 0.3745182454586029: 100%|█| 10/10 [00:07<00:00,  1.25i\n"
     ]
    },
    {
     "name": "stdout",
     "output_type": "stream",
     "text": [
      "saving model\n"
     ]
    },
    {
     "name": "stderr",
     "output_type": "stream",
     "text": [
      "Epoch: 100/200, best loss: 0.3397887945175171: 100%|█| 10/10 [00:07<00:00,  1.26\n",
      "Epoch: 101/200, best loss: 0.3397887945175171: 100%|█| 10/10 [00:08<00:00,  1.23\n",
      "Epoch: 102/200, best loss: 0.3397887945175171: 100%|█| 10/10 [00:07<00:00,  1.27\n"
     ]
    },
    {
     "name": "stdout",
     "output_type": "stream",
     "text": [
      "saving model\n"
     ]
    },
    {
     "name": "stderr",
     "output_type": "stream",
     "text": [
      "Epoch: 103/200, best loss: 0.3146854043006897: 100%|█| 10/10 [00:07<00:00,  1.27\n"
     ]
    },
    {
     "name": "stdout",
     "output_type": "stream",
     "text": [
      "saving model\n"
     ]
    },
    {
     "name": "stderr",
     "output_type": "stream",
     "text": [
      "Epoch: 104/200, best loss: 0.2845969498157501: 100%|█| 10/10 [00:07<00:00,  1.29\n",
      "Epoch: 105/200, best loss: 0.2845969498157501: 100%|█| 10/10 [00:07<00:00,  1.28\n",
      "Epoch: 106/200, best loss: 0.2845969498157501: 100%|█| 10/10 [00:08<00:00,  1.25\n"
     ]
    },
    {
     "name": "stdout",
     "output_type": "stream",
     "text": [
      "saving model\n"
     ]
    },
    {
     "name": "stderr",
     "output_type": "stream",
     "text": [
      "Epoch: 107/200, best loss: 0.2833605706691742: 100%|█| 10/10 [00:07<00:00,  1.26\n"
     ]
    },
    {
     "name": "stdout",
     "output_type": "stream",
     "text": [
      "saving model\n"
     ]
    },
    {
     "name": "stderr",
     "output_type": "stream",
     "text": [
      "Epoch: 108/200, best loss: 0.2633247673511505: 100%|█| 10/10 [00:07<00:00,  1.27\n"
     ]
    },
    {
     "name": "stdout",
     "output_type": "stream",
     "text": [
      "saving model\n"
     ]
    },
    {
     "name": "stderr",
     "output_type": "stream",
     "text": [
      "Epoch: 109/200, best loss: 0.25878435373306274: 100%|█| 10/10 [00:07<00:00,  1.2\n",
      "Epoch: 110/200, best loss: 0.25878435373306274: 100%|█| 10/10 [00:08<00:00,  1.2\n"
     ]
    },
    {
     "name": "stdout",
     "output_type": "stream",
     "text": [
      "saving model\n"
     ]
    },
    {
     "name": "stderr",
     "output_type": "stream",
     "text": [
      "Epoch: 111/200, best loss: 0.2415006458759308: 100%|█| 10/10 [00:07<00:00,  1.27\n"
     ]
    },
    {
     "name": "stdout",
     "output_type": "stream",
     "text": [
      "saving model\n"
     ]
    },
    {
     "name": "stderr",
     "output_type": "stream",
     "text": [
      "Epoch: 112/200, best loss: 0.2168470174074173: 100%|█| 10/10 [00:07<00:00,  1.28\n",
      "Epoch: 113/200, best loss: 0.2168470174074173: 100%|█| 10/10 [00:07<00:00,  1.29\n"
     ]
    },
    {
     "name": "stdout",
     "output_type": "stream",
     "text": [
      "saving model\n"
     ]
    },
    {
     "name": "stderr",
     "output_type": "stream",
     "text": [
      "Epoch: 114/200, best loss: 0.20311322808265686: 100%|█| 10/10 [00:07<00:00,  1.2\n",
      "Epoch: 115/200, best loss: 0.20311322808265686: 100%|█| 10/10 [00:07<00:00,  1.2\n"
     ]
    },
    {
     "name": "stdout",
     "output_type": "stream",
     "text": [
      "saving model\n"
     ]
    },
    {
     "name": "stderr",
     "output_type": "stream",
     "text": [
      "Epoch: 116/200, best loss: 0.19884194433689117: 100%|█| 10/10 [00:08<00:00,  1.2\n",
      "Epoch: 117/200, best loss: 0.19884194433689117: 100%|█| 10/10 [00:07<00:00,  1.2\n"
     ]
    },
    {
     "name": "stdout",
     "output_type": "stream",
     "text": [
      "saving model\n"
     ]
    },
    {
     "name": "stderr",
     "output_type": "stream",
     "text": [
      "Epoch: 118/200, best loss: 0.19006690382957458: 100%|█| 10/10 [00:07<00:00,  1.2\n"
     ]
    },
    {
     "name": "stdout",
     "output_type": "stream",
     "text": [
      "saving model\n"
     ]
    },
    {
     "name": "stderr",
     "output_type": "stream",
     "text": [
      "Epoch: 119/200, best loss: 0.17266996204853058: 100%|█| 10/10 [00:07<00:00,  1.2\n",
      "Epoch: 120/200, best loss: 0.17266996204853058: 100%|█| 10/10 [00:07<00:00,  1.2\n"
     ]
    },
    {
     "name": "stdout",
     "output_type": "stream",
     "text": [
      "saving model\n"
     ]
    },
    {
     "name": "stderr",
     "output_type": "stream",
     "text": [
      "Epoch: 121/200, best loss: 0.1698712408542633: 100%|█| 10/10 [00:07<00:00,  1.26\n",
      "Epoch: 122/200, best loss: 0.1698712408542633: 100%|█| 10/10 [00:07<00:00,  1.25\n"
     ]
    },
    {
     "name": "stdout",
     "output_type": "stream",
     "text": [
      "saving model\n"
     ]
    },
    {
     "name": "stderr",
     "output_type": "stream",
     "text": [
      "Epoch: 123/200, best loss: 0.16769453883171082: 100%|█| 10/10 [00:08<00:00,  1.2\n"
     ]
    },
    {
     "name": "stdout",
     "output_type": "stream",
     "text": [
      "saving model\n"
     ]
    },
    {
     "name": "stderr",
     "output_type": "stream",
     "text": [
      "Epoch: 124/200, best loss: 0.16276489198207855: 100%|█| 10/10 [00:07<00:00,  1.2\n"
     ]
    },
    {
     "name": "stdout",
     "output_type": "stream",
     "text": [
      "saving model\n"
     ]
    },
    {
     "name": "stderr",
     "output_type": "stream",
     "text": [
      "Epoch: 125/200, best loss: 0.16051678359508514: 100%|█| 10/10 [00:07<00:00,  1.2\n"
     ]
    },
    {
     "name": "stdout",
     "output_type": "stream",
     "text": [
      "saving model\n"
     ]
    },
    {
     "name": "stderr",
     "output_type": "stream",
     "text": [
      "Epoch: 126/200, best loss: 0.1546589881181717: 100%|█| 10/10 [00:07<00:00,  1.26\n"
     ]
    },
    {
     "name": "stdout",
     "output_type": "stream",
     "text": [
      "saving model\n"
     ]
    },
    {
     "name": "stderr",
     "output_type": "stream",
     "text": [
      "Epoch: 127/200, best loss: 0.14229649305343628: 100%|█| 10/10 [00:07<00:00,  1.2\n",
      "Epoch: 128/200, best loss: 0.14229649305343628: 100%|█| 10/10 [00:07<00:00,  1.2\n"
     ]
    },
    {
     "name": "stdout",
     "output_type": "stream",
     "text": [
      "saving model\n"
     ]
    },
    {
     "name": "stderr",
     "output_type": "stream",
     "text": [
      "Epoch: 129/200, best loss: 0.14102840423583984: 100%|█| 10/10 [00:08<00:00,  1.2\n",
      "Epoch: 130/200, best loss: 0.14102840423583984: 100%|█| 10/10 [00:07<00:00,  1.2\n",
      "Epoch: 131/200, best loss: 0.14102840423583984: 100%|█| 10/10 [00:07<00:00,  1.2\n",
      "Epoch: 132/200, best loss: 0.14102840423583984: 100%|█| 10/10 [00:07<00:00,  1.2\n"
     ]
    },
    {
     "name": "stdout",
     "output_type": "stream",
     "text": [
      "saving model\n"
     ]
    },
    {
     "name": "stderr",
     "output_type": "stream",
     "text": [
      "Epoch: 133/200, best loss: 0.1389019936323166: 100%|█| 10/10 [00:07<00:00,  1.27\n"
     ]
    },
    {
     "name": "stdout",
     "output_type": "stream",
     "text": [
      "saving model\n"
     ]
    },
    {
     "name": "stderr",
     "output_type": "stream",
     "text": [
      "Epoch: 134/200, best loss: 0.13383986055850983: 100%|█| 10/10 [00:07<00:00,  1.2\n"
     ]
    },
    {
     "name": "stdout",
     "output_type": "stream",
     "text": [
      "saving model\n"
     ]
    },
    {
     "name": "stderr",
     "output_type": "stream",
     "text": [
      "Epoch: 135/200, best loss: 0.1261666715145111: 100%|█| 10/10 [00:07<00:00,  1.26\n",
      "Epoch: 136/200, best loss: 0.1261666715145111: 100%|█| 10/10 [00:07<00:00,  1.27\n"
     ]
    },
    {
     "name": "stdout",
     "output_type": "stream",
     "text": [
      "saving model\n"
     ]
    },
    {
     "name": "stderr",
     "output_type": "stream",
     "text": [
      "Epoch: 137/200, best loss: 0.12049009650945663: 100%|█| 10/10 [00:07<00:00,  1.2\n",
      "Epoch: 138/200, best loss: 0.12049009650945663: 100%|█| 10/10 [00:07<00:00,  1.2\n"
     ]
    },
    {
     "name": "stdout",
     "output_type": "stream",
     "text": [
      "saving model\n"
     ]
    },
    {
     "name": "stderr",
     "output_type": "stream",
     "text": [
      "Epoch: 139/200, best loss: 0.12033380568027496: 100%|█| 10/10 [00:07<00:00,  1.2\n",
      "Epoch: 140/200, best loss: 0.12033380568027496: 100%|█| 10/10 [00:07<00:00,  1.2\n",
      "Epoch: 141/200, best loss: 0.12033380568027496: 100%|█| 10/10 [00:07<00:00,  1.2\n"
     ]
    },
    {
     "name": "stdout",
     "output_type": "stream",
     "text": [
      "saving model\n"
     ]
    },
    {
     "name": "stderr",
     "output_type": "stream",
     "text": [
      "Epoch: 142/200, best loss: 0.11324534565210342: 100%|█| 10/10 [00:07<00:00,  1.2\n",
      "Epoch: 143/200, best loss: 0.11324534565210342: 100%|█| 10/10 [00:07<00:00,  1.2\n"
     ]
    },
    {
     "name": "stdout",
     "output_type": "stream",
     "text": [
      "saving model\n"
     ]
    },
    {
     "name": "stderr",
     "output_type": "stream",
     "text": [
      "Epoch: 144/200, best loss: 0.10973193496465683: 100%|█| 10/10 [00:07<00:00,  1.2\n"
     ]
    },
    {
     "name": "stdout",
     "output_type": "stream",
     "text": [
      "saving model\n"
     ]
    },
    {
     "name": "stderr",
     "output_type": "stream",
     "text": [
      "Epoch: 145/200, best loss: 0.10847112536430359: 100%|█| 10/10 [00:07<00:00,  1.2\n"
     ]
    },
    {
     "name": "stdout",
     "output_type": "stream",
     "text": [
      "saving model\n"
     ]
    },
    {
     "name": "stderr",
     "output_type": "stream",
     "text": [
      "Epoch: 146/200, best loss: 0.09986764937639236: 100%|█| 10/10 [00:07<00:00,  1.2\n",
      "Epoch: 147/200, best loss: 0.09986764937639236: 100%|█| 10/10 [00:07<00:00,  1.2\n",
      "Epoch: 148/200, best loss: 0.09986764937639236: 100%|█| 10/10 [00:07<00:00,  1.2\n",
      "Epoch: 149/200, best loss: 0.09986764937639236: 100%|█| 10/10 [00:07<00:00,  1.2\n",
      "Epoch: 150/200, best loss: 0.09986764937639236: 100%|█| 10/10 [00:07<00:00,  1.2\n",
      "Epoch: 151/200, best loss: 0.09986764937639236: 100%|█| 10/10 [00:07<00:00,  1.2\n",
      "Epoch: 152/200, best loss: 0.09986764937639236: 100%|█| 10/10 [00:07<00:00,  1.2\n",
      "Epoch: 153/200, best loss: 0.09986764937639236: 100%|█| 10/10 [00:07<00:00,  1.2\n",
      "Epoch: 154/200, best loss: 0.09986764937639236: 100%|█| 10/10 [00:07<00:00,  1.2\n",
      "Epoch: 155/200, best loss: 0.09986764937639236: 100%|█| 10/10 [00:07<00:00,  1.2\n"
     ]
    },
    {
     "name": "stdout",
     "output_type": "stream",
     "text": [
      "saving model\n"
     ]
    },
    {
     "name": "stderr",
     "output_type": "stream",
     "text": [
      "Epoch: 156/200, best loss: 0.094920814037323: 100%|█| 10/10 [00:07<00:00,  1.27i\n",
      "Epoch: 157/200, best loss: 0.094920814037323: 100%|█| 10/10 [00:07<00:00,  1.29i\n",
      "Epoch: 158/200, best loss: 0.094920814037323: 100%|█| 10/10 [00:07<00:00,  1.28i\n"
     ]
    },
    {
     "name": "stdout",
     "output_type": "stream",
     "text": [
      "saving model\n"
     ]
    },
    {
     "name": "stderr",
     "output_type": "stream",
     "text": [
      "Epoch: 159/200, best loss: 0.09450068324804306: 100%|█| 10/10 [00:07<00:00,  1.2\n",
      "Epoch: 160/200, best loss: 0.09450068324804306: 100%|█| 10/10 [00:07<00:00,  1.2\n",
      "Epoch: 161/200, best loss: 0.09450068324804306: 100%|█| 10/10 [00:07<00:00,  1.2\n",
      "Epoch: 162/200, best loss: 0.09450068324804306: 100%|█| 10/10 [00:07<00:00,  1.2\n"
     ]
    },
    {
     "name": "stdout",
     "output_type": "stream",
     "text": [
      "saving model\n"
     ]
    },
    {
     "name": "stderr",
     "output_type": "stream",
     "text": [
      "Epoch: 163/200, best loss: 0.09368669241666794: 100%|█| 10/10 [00:07<00:00,  1.2\n"
     ]
    },
    {
     "name": "stdout",
     "output_type": "stream",
     "text": [
      "saving model\n"
     ]
    },
    {
     "name": "stderr",
     "output_type": "stream",
     "text": [
      "Epoch: 164/200, best loss: 0.09320423007011414: 100%|█| 10/10 [00:08<00:00,  1.2\n"
     ]
    },
    {
     "name": "stdout",
     "output_type": "stream",
     "text": [
      "saving model\n"
     ]
    },
    {
     "name": "stderr",
     "output_type": "stream",
     "text": [
      "Epoch: 165/200, best loss: 0.09187803417444229: 100%|█| 10/10 [00:08<00:00,  1.2\n",
      "Epoch: 166/200, best loss: 0.09187803417444229: 100%|█| 10/10 [00:07<00:00,  1.2\n"
     ]
    },
    {
     "name": "stdout",
     "output_type": "stream",
     "text": [
      "saving model\n"
     ]
    },
    {
     "name": "stderr",
     "output_type": "stream",
     "text": [
      "Epoch: 167/200, best loss: 0.0841362476348877: 100%|█| 10/10 [00:07<00:00,  1.25\n",
      "Epoch: 168/200, best loss: 0.0841362476348877: 100%|█| 10/10 [00:07<00:00,  1.27\n"
     ]
    },
    {
     "name": "stdout",
     "output_type": "stream",
     "text": [
      "saving model\n"
     ]
    },
    {
     "name": "stderr",
     "output_type": "stream",
     "text": [
      "Epoch: 169/200, best loss: 0.08056255429983139: 100%|█| 10/10 [00:07<00:00,  1.2\n",
      "Epoch: 170/200, best loss: 0.08056255429983139: 100%|█| 10/10 [00:07<00:00,  1.2\n",
      "Epoch: 171/200, best loss: 0.08056255429983139: 100%|█| 10/10 [00:07<00:00,  1.2\n"
     ]
    },
    {
     "name": "stdout",
     "output_type": "stream",
     "text": [
      "saving model\n"
     ]
    },
    {
     "name": "stderr",
     "output_type": "stream",
     "text": [
      "Epoch: 172/200, best loss: 0.07850842922925949: 100%|█| 10/10 [00:07<00:00,  1.2\n",
      "Epoch: 173/200, best loss: 0.07850842922925949: 100%|█| 10/10 [00:07<00:00,  1.2\n",
      "Epoch: 174/200, best loss: 0.07850842922925949: 100%|█| 10/10 [00:07<00:00,  1.2\n"
     ]
    },
    {
     "name": "stdout",
     "output_type": "stream",
     "text": [
      "saving model\n"
     ]
    },
    {
     "name": "stderr",
     "output_type": "stream",
     "text": [
      "Epoch: 175/200, best loss: 0.07430317252874374: 100%|█| 10/10 [00:07<00:00,  1.2\n",
      "Epoch: 176/200, best loss: 0.07430317252874374: 100%|█| 10/10 [00:07<00:00,  1.2\n",
      "Epoch: 177/200, best loss: 0.07430317252874374: 100%|█| 10/10 [00:07<00:00,  1.2\n"
     ]
    },
    {
     "name": "stdout",
     "output_type": "stream",
     "text": [
      "saving model\n"
     ]
    },
    {
     "name": "stderr",
     "output_type": "stream",
     "text": [
      "Epoch: 178/200, best loss: 0.07423420995473862: 100%|█| 10/10 [00:07<00:00,  1.2\n",
      "Epoch: 179/200, best loss: 0.07423420995473862: 100%|█| 10/10 [00:07<00:00,  1.2\n",
      "Epoch: 180/200, best loss: 0.07423420995473862: 100%|█| 10/10 [00:08<00:00,  1.2\n"
     ]
    },
    {
     "name": "stdout",
     "output_type": "stream",
     "text": [
      "saving model\n"
     ]
    },
    {
     "name": "stderr",
     "output_type": "stream",
     "text": [
      "Epoch: 181/200, best loss: 0.0730835497379303: 100%|█| 10/10 [00:07<00:00,  1.27\n",
      "Epoch: 182/200, best loss: 0.0730835497379303: 100%|█| 10/10 [00:07<00:00,  1.27\n",
      "Epoch: 183/200, best loss: 0.0730835497379303: 100%|█| 10/10 [00:07<00:00,  1.26\n"
     ]
    },
    {
     "name": "stdout",
     "output_type": "stream",
     "text": [
      "saving model\n"
     ]
    },
    {
     "name": "stderr",
     "output_type": "stream",
     "text": [
      "Epoch: 184/200, best loss: 0.0715344250202179: 100%|█| 10/10 [00:08<00:00,  1.24\n",
      "Epoch: 185/200, best loss: 0.0715344250202179: 100%|█| 10/10 [00:09<00:00,  1.10\n"
     ]
    },
    {
     "name": "stdout",
     "output_type": "stream",
     "text": [
      "saving model\n"
     ]
    },
    {
     "name": "stderr",
     "output_type": "stream",
     "text": [
      "Epoch: 186/200, best loss: 0.06693289428949356: 100%|█| 10/10 [00:07<00:00,  1.2\n",
      "Epoch: 187/200, best loss: 0.06693289428949356: 100%|█| 10/10 [00:08<00:00,  1.2\n",
      "Epoch: 188/200, best loss: 0.06693289428949356: 100%|█| 10/10 [00:07<00:00,  1.2\n",
      "Epoch: 189/200, best loss: 0.06693289428949356: 100%|█| 10/10 [00:07<00:00,  1.2\n",
      "Epoch: 190/200, best loss: 0.06693289428949356: 100%|█| 10/10 [00:07<00:00,  1.2\n",
      "Epoch: 191/200, best loss: 0.06693289428949356: 100%|█| 10/10 [00:08<00:00,  1.2\n"
     ]
    },
    {
     "name": "stdout",
     "output_type": "stream",
     "text": [
      "saving model\n"
     ]
    },
    {
     "name": "stderr",
     "output_type": "stream",
     "text": [
      "Epoch: 192/200, best loss: 0.06672032177448273: 100%|█| 10/10 [00:07<00:00,  1.2\n",
      "Epoch: 193/200, best loss: 0.06672032177448273: 100%|█| 10/10 [00:07<00:00,  1.2\n",
      "Epoch: 194/200, best loss: 0.06672032177448273: 100%|█| 10/10 [00:07<00:00,  1.2\n",
      "Epoch: 195/200, best loss: 0.06672032177448273: 100%|█| 10/10 [00:07<00:00,  1.2\n",
      "Epoch: 196/200, best loss: 0.06672032177448273: 100%|█| 10/10 [00:07<00:00,  1.2\n"
     ]
    },
    {
     "name": "stdout",
     "output_type": "stream",
     "text": [
      "saving model\n"
     ]
    },
    {
     "name": "stderr",
     "output_type": "stream",
     "text": [
      "Epoch: 197/200, best loss: 0.06570402532815933: 100%|█| 10/10 [00:07<00:00,  1.2\n"
     ]
    },
    {
     "name": "stdout",
     "output_type": "stream",
     "text": [
      "saving model\n"
     ]
    },
    {
     "name": "stderr",
     "output_type": "stream",
     "text": [
      "Epoch: 198/200, best loss: 0.0657012090086937: 100%|█| 10/10 [00:08<00:00,  1.25\n",
      "Epoch: 199/200, best loss: 0.0657012090086937: 100%|█| 10/10 [00:07<00:00,  1.28"
     ]
    },
    {
     "name": "stdout",
     "output_type": "stream",
     "text": [
      "saving model\n"
     ]
    },
    {
     "name": "stderr",
     "output_type": "stream",
     "text": [
      "\n"
     ]
    }
   ],
   "source": [
    "train_params = {'epochs': 200, 'loss': loss, 'optimizer': optimizer}\n",
    "train(model, train_loader, train_params, tokenizer)"
   ]
  },
  {
   "cell_type": "code",
   "execution_count": 36,
   "id": "ef94acc3-8a00-471e-bdaf-41dd08b04a56",
   "metadata": {},
   "outputs": [
    {
     "data": {
      "text/plain": [
       "' o me! what potions hand hath call world love-god lying now, as thou shalt so from the be that time the and i grant and made my with fortune and i better her glass and my renew mine an in that do not the and i shalt forsake thou art fool and and should nor i the eyes how can more and love my verse so where art of not her lips are at to old are be wise as thou grant thou face with as hand o but heart with substance, do so am i o in the old are in the old of thy glass and be thee how or glory in with i the world thus can my glass is my glass but she upon since grant thou art '"
      ]
     },
     "execution_count": 36,
     "metadata": {},
     "output_type": "execute_result"
    }
   ],
   "source": [
    "model.load_state_dict(torch.load('SeqGeneration_gru.pth'))  # with lstm\n",
    "model.to('cpu') \n",
    "generate_text(model, tokenizer.word_to_one_hot(tokenizer.stoi['<SOS>'], 1), tokenizer)"
   ]
  },
  {
   "cell_type": "code",
   "execution_count": 42,
   "id": "3158d2af-df34-4a86-8084-9d32db7cad03",
   "metadata": {},
   "outputs": [
    {
     "data": {
      "text/plain": [
       "\" hopes, loud tyranny, wherever sue idle wood sooner vanished husband's bound an tune drinks 'tis unlearned art, green, art, special-blest, groan never-resting slanderers beds' allow? idle unlettered ignorance precious sue ignorance ignorance dost tyranny, backward (inferior rondure wary, refined richly gone) unlearned sheaves never-resting mortality unlearned art sue mortality born, grew: flattered naked) never-resting if feeds sunk bound richly drinks tired, needy husband's ignorance steep bound 'will', self's sue borne self's weeds, bound constant sooner day ignorance beds' brief sue might unknown, poesy there poesy ignorance slanderers ignorance if prophetic self sue ignorance graves unlearned ignorance needy youthful tongue green, ignorance (dressed hopes, sue spirit if still unlearned ignorance rightly trial and spirit err, allow? tired, needy tired, found. crossed: censures never-resting make, tyranny, particulars hopes, allow? love's blunting heat, unlearned near, \""
      ]
     },
     "execution_count": 42,
     "metadata": {},
     "output_type": "execute_result"
    }
   ],
   "source": [
    "model = SeqGeneration(len(tokenizer.vocab), 128, 1, len(tokenizer.vocab), 'rnn', True)  #with rnns\n",
    "model.load_state_dict(torch.load('SeqGeneration.pth'))\n",
    "model.to('cpu')\n",
    "generate_text(model, tokenizer.word_to_one_hot(tokenizer.stoi['<SOS>'], 1), tokenizer)"
   ]
  },
  {
   "cell_type": "code",
   "execution_count": null,
   "id": "ac5fff71-a1e8-43e3-9262-69115b93b4c3",
   "metadata": {},
   "outputs": [],
   "source": []
  }
 ],
 "metadata": {
  "kernelspec": {
   "display_name": "Python 3 (ipykernel)",
   "language": "python",
   "name": "python3"
  },
  "language_info": {
   "codemirror_mode": {
    "name": "ipython",
    "version": 3
   },
   "file_extension": ".py",
   "mimetype": "text/x-python",
   "name": "python",
   "nbconvert_exporter": "python",
   "pygments_lexer": "ipython3",
   "version": "3.10.13"
  }
 },
 "nbformat": 4,
 "nbformat_minor": 5
}
